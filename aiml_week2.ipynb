{
  "nbformat": 4,
  "nbformat_minor": 0,
  "metadata": {
    "colab": {
      "provenance": []
    },
    "kernelspec": {
      "name": "python3",
      "display_name": "Python 3"
    },
    "language_info": {
      "name": "python"
    }
  },
  "cells": [
    {
      "cell_type": "code",
      "execution_count": 1,
      "metadata": {
        "colab": {
          "base_uri": "https://localhost:8080/"
        },
        "id": "NyLSsvB0u_EJ",
        "outputId": "6713d067-af1f-421b-cd7c-8ce1531abcd5"
      },
      "outputs": [
        {
          "output_type": "stream",
          "name": "stdout",
          "text": [
            "1 0 2 3 5 4 "
          ]
        }
      ],
      "source": [
        "import collections\n",
        "\n",
        "def bfs(graph, start):\n",
        "    visited = set()\n",
        "    queue = collections.deque([start])\n",
        "    visited.add(start)\n",
        "\n",
        "    while queue:\n",
        "        node = queue.popleft()\n",
        "        print(node, end=\" \")\n",
        "\n",
        "        neighbours = graph[node]\n",
        "        for neighbour in neighbours:\n",
        "            if neighbour not in visited:\n",
        "                visited.add(neighbour)\n",
        "                queue.append(neighbour)\n",
        "\n",
        "graph = {\n",
        "    0: [1],\n",
        "    1: [0, 2, 3],\n",
        "    2: [1, 5],\n",
        "    3: [1, 4],\n",
        "    4: [3, 5],\n",
        "    5: [2, 4]\n",
        "}\n",
        "\n",
        "bfs(graph, 1)\n"
      ]
    },
    {
      "cell_type": "code",
      "source": [
        "import collections\n",
        "\n",
        "def dfs(graph, start):\n",
        "    visited = set()\n",
        "    stack = collections.deque([start])\n",
        "    visited.add(start)\n",
        "\n",
        "    while stack:\n",
        "        node = stack.pop()\n",
        "        print(node, end=\" \")\n",
        "\n",
        "        neighbours = graph[node]\n",
        "        for neighbour in neighbours:\n",
        "            if neighbour not in visited:\n",
        "                visited.add(neighbour)\n",
        "                stack.append(neighbour)\n",
        "\n",
        "graph = {\n",
        "    \"S\": [\"A\", \"C\", \"G\"],\n",
        "    \"A\": [\"B\"],\n",
        "    \"B\": [],\n",
        "    \"C\": [\"D\", \"F\"],\n",
        "    \"D\": [],\n",
        "    \"E\": [],\n",
        "    \"F\": [\"E\", \"H\"],\n",
        "    \"G\": [],\n",
        "    \"H\": []\n",
        "}\n",
        "\n",
        "dfs(graph, \"S\")\n"
      ],
      "metadata": {
        "colab": {
          "base_uri": "https://localhost:8080/"
        },
        "id": "mJ16t1qcvuwO",
        "outputId": "8c9b51a9-cb73-4a17-da23-f2554b436c61"
      },
      "execution_count": 2,
      "outputs": [
        {
          "output_type": "stream",
          "name": "stdout",
          "text": [
            "S G C F H E D A B "
          ]
        }
      ]
    },
    {
      "cell_type": "code",
      "source": [
        "from copy import deepcopy\n",
        "import numpy as np\n",
        "import time\n",
        "\n",
        "def bestsolution(state):\n",
        "    bestsol = np.array([], int).reshape(-1, 9)\n",
        "    count = len(state) - 1\n",
        "    while count != -1:\n",
        "        bestsol = np.insert(bestsol, 0, state[count]['puzzle'], 0)\n",
        "        count = state[count]['parent']\n",
        "    return bestsol.reshape(-1, 3, 3)\n",
        "\n",
        "def all(checkarray):\n",
        "    set_list = []\n",
        "    for it in set_list:\n",
        "        for checkarray in it:\n",
        "            return 1\n",
        "    else:\n",
        "        return 0\n",
        "\n",
        "def misplaced_tiles(puzzle, goal):\n",
        "    mscost = np.sum(puzzle != goal) - 1\n",
        "    return mscost if mscost > 0 else 0\n",
        "\n",
        "def coordinates(puzzle):\n",
        "    pos = np.array(range(9))\n",
        "    for p, q in enumerate(puzzle):\n",
        "        pos[q] = p\n",
        "    return pos\n",
        "\n",
        "def evaluvate_misplaced(puzzle, goal):\n",
        "    steps = np.array([('up', [0, 1, 2], -3), ('down', [6, 7, 8], 3), ('left', [0, 3, 6], -1), ('right', [2, 5, 8], 1)],\n",
        "                     dtype=[('move', str, 1), ('position', list), ('head', int)])\n",
        "    dtstate = [('puzzle', list), ('parent', int), ('gn', int), ('hn', int)]\n",
        "    costg = coordinates(goal)\n",
        "\n",
        "    parent = -1\n",
        "    gn = 0\n",
        "    hn = misplaced_tiles(coordinates(puzzle), costg)\n",
        "    state = np.array([(puzzle, parent, gn, hn)], dtstate)\n",
        "\n",
        "    dtpriority = [('position', int), ('fn', int)]\n",
        "    priority = np.array([(0, hn)], dtpriority)\n",
        "\n",
        "    while 1:\n",
        "        priority = np.sort(priority, kind='mergesort', order=['fn', 'position'])\n",
        "        position, fn = priority[0]\n",
        "\n",
        "        priority = np.delete(priority, 0, 0)\n",
        "        puzzle, parent, gn, hn = state[position]\n",
        "        puzzle = np.array(puzzle)\n",
        "        blank = int(np.where(puzzle == 0)[0])\n",
        "        gn = gn + 1\n",
        "        C = 1\n",
        "        start_time = time.time()\n",
        "\n",
        "        for s in steps:\n",
        "            C = C + 1\n",
        "            if blank not in s['position']:\n",
        "                openstates = deepcopy(puzzle)\n",
        "                openstates[blank], openstates[blank + s['head']] = openstates[blank + s['head']], openstates[blank]\n",
        "\n",
        "                if not (np.all(list(state['puzzle']) == openstates, 1)).any():\n",
        "                    end_time = time.time()\n",
        "                    if (end_time - start_time) > 2:\n",
        "                        print(\"The 8 puzzle is unsolvable\\n\")\n",
        "                        break\n",
        "\n",
        "                    hn = misplaced_tiles(coordinates(openstates), costg)\n",
        "                    q = np.array([(openstates, position, gn, hn)], dtstate)\n",
        "                    state = np.append(state, q, 0)\n",
        "\n",
        "                    fn = gn + hn\n",
        "                    q = np.array([(len(state) - 1, fn)], dtpriority)\n",
        "                    priority = np.append(priority, q)\n",
        "\n",
        "                    if np.array_equal(openstates, goal):\n",
        "                        print('The 8 puzzle is solvable\\n')\n",
        "                        return state, len(priority)\n",
        "\n",
        "# Initial state\n",
        "puzzle = [2, 8, 3, 7, 1, 4, 0, 6, 5]\n",
        "\n",
        "# Goal state\n",
        "goal = [1, 2, 3, 8, 0, 4, 7, 6, 5]\n",
        "\n",
        "state, visited = evaluvate_misplaced(puzzle, goal)\n",
        "bestpath = bestsolution(state)\n",
        "print(str(bestpath).replace('[', '').replace(']', ''))\n",
        "\n",
        "totalmoves = len(bestpath) - 1\n",
        "print('\\nsteps to reach goal:', totalmoves)\n",
        "\n",
        "visit = len(state) - visited\n",
        "print('Total nodes visited:', visit, \"\\n\")\n"
      ],
      "metadata": {
        "colab": {
          "base_uri": "https://localhost:8080/"
        },
        "id": "fvqyjqL1vxze",
        "outputId": "7f104c0b-169e-4eeb-b47e-3ad7b4e43dcf"
      },
      "execution_count": 3,
      "outputs": [
        {
          "output_type": "stream",
          "name": "stdout",
          "text": [
            "The 8 puzzle is solvable\n",
            "\n",
            "2 8 3\n",
            "  7 1 4\n",
            "  0 6 5\n",
            "\n",
            " 2 8 3\n",
            "  0 1 4\n",
            "  7 6 5\n",
            "\n",
            " 2 8 3\n",
            "  1 0 4\n",
            "  7 6 5\n",
            "\n",
            " 2 0 3\n",
            "  1 8 4\n",
            "  7 6 5\n",
            "\n",
            " 0 2 3\n",
            "  1 8 4\n",
            "  7 6 5\n",
            "\n",
            " 1 2 3\n",
            "  0 8 4\n",
            "  7 6 5\n",
            "\n",
            " 1 2 3\n",
            "  8 0 4\n",
            "  7 6 5\n",
            "\n",
            "steps to reach goal: 6\n",
            "Total nodes visited: 11 \n",
            "\n"
          ]
        }
      ]
    }
  ]
}